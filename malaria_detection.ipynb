{
  "nbformat": 4,
  "nbformat_minor": 0,
  "metadata": {
    "colab": {
      "provenance": [],
      "authorship_tag": "ABX9TyPQQ4WwWCsYIebGMkvJuubT",
      "include_colab_link": true
    },
    "kernelspec": {
      "name": "python3",
      "display_name": "Python 3"
    },
    "language_info": {
      "name": "python"
    },
    "accelerator": "GPU",
    "gpuClass": "standard"
  },
  "cells": [
    {
      "cell_type": "markdown",
      "metadata": {
        "id": "view-in-github",
        "colab_type": "text"
      },
      "source": [
        "<a href=\"https://colab.research.google.com/github/muxair080/Malaria_Detection_DL/blob/main/malaria_detection.ipynb\" target=\"_parent\"><img src=\"https://colab.research.google.com/assets/colab-badge.svg\" alt=\"Open In Colab\"/></a>"
      ]
    },
    {
      "cell_type": "code",
      "source": [
        "# /content/drive/MyDrive/Malaria dataset"
      ],
      "metadata": {
        "id": "HmWOVHzakBkK"
      },
      "execution_count": null,
      "outputs": []
    },
    {
      "cell_type": "code",
      "source": [
        "from google.colab import drive\n",
        "drive.mount('/content/drive')"
      ],
      "metadata": {
        "colab": {
          "base_uri": "https://localhost:8080/"
        },
        "id": "gmoCInFBpW30",
        "outputId": "a100ac81-2797-44b1-90ef-aacf9d08ea7d"
      },
      "execution_count": 1,
      "outputs": [
        {
          "output_type": "stream",
          "name": "stdout",
          "text": [
            "Mounted at /content/drive\n"
          ]
        }
      ]
    },
    {
      "cell_type": "markdown",
      "source": [
        "# Malaria Disease Detection"
      ],
      "metadata": {
        "id": "lRajxcoqOza3"
      }
    },
    {
      "cell_type": "markdown",
      "source": [
        "## Importing Dependencies"
      ],
      "metadata": {
        "id": "68-WZK5lO5XL"
      }
    },
    {
      "cell_type": "code",
      "source": [
        "from tensorflow.keras.layers import Input, Lambda, Dense, Flatten, Conv2D\n",
        "from tensorflow.keras.models import Model\n",
        "from tensorflow.keras.applications.vgg19 import VGG19\n",
        "from tensorflow.keras.applications.resnet50 import preprocess_input\n",
        "from tensorflow.keras.preprocessing import image\n",
        "from tensorflow.keras.preprocessing.image import ImageDataGenerator, load_img\n",
        "from tensorflow.keras.models import Sequential\n",
        "from tensorflow.keras.layers import MaxPooling2D, Dropout\n",
        "import numpy as np\n",
        "from glob import glob\n",
        "import matplotlib.pyplot as plt\n",
        "import pandas as pd"
      ],
      "metadata": {
        "id": "4f1s_C2AOwnu"
      },
      "execution_count": 212,
      "outputs": []
    },
    {
      "cell_type": "code",
      "source": [
        "IMAGE_SIZE=[224,224]\n",
        "train_path = '/content/drive/MyDrive/Malaria dataset/Train'\n",
        "test_path = '/content/drive/MyDrive/Malaria dataset/Test'"
      ],
      "metadata": {
        "id": "e3aEqVtBPsvy"
      },
      "execution_count": 3,
      "outputs": []
    },
    {
      "cell_type": "markdown",
      "source": [
        "# Load VGG19"
      ],
      "metadata": {
        "id": "gDhMsH--QOYU"
      }
    },
    {
      "cell_type": "code",
      "source": [
        "vgg19 = VGG19(input_shape=IMAGE_SIZE+[3], weights='imagenet', \n",
        "              include_top=False) "
      ],
      "metadata": {
        "colab": {
          "base_uri": "https://localhost:8080/"
        },
        "id": "phznfQPqP-G-",
        "outputId": "569b9df9-ef38-4bbd-d7fe-30ec6b362a80"
      },
      "execution_count": 4,
      "outputs": [
        {
          "output_type": "stream",
          "name": "stdout",
          "text": [
            "Downloading data from https://storage.googleapis.com/tensorflow/keras-applications/vgg19/vgg19_weights_tf_dim_ordering_tf_kernels_notop.h5\n",
            "80134624/80134624 [==============================] - 0s 0us/step\n"
          ]
        }
      ]
    },
    {
      "cell_type": "code",
      "source": [
        "for layer in vgg19.layers:\n",
        "  layer.trainable = False"
      ],
      "metadata": {
        "id": "91bEtYe3QLuD"
      },
      "execution_count": 5,
      "outputs": []
    },
    {
      "cell_type": "code",
      "source": [
        "folders  = glob('/content/drive/MyDrive/Malaria dataset/Train/*')"
      ],
      "metadata": {
        "id": "WtD-oe9SQbFG"
      },
      "execution_count": 6,
      "outputs": []
    },
    {
      "cell_type": "code",
      "source": [
        "folders"
      ],
      "metadata": {
        "colab": {
          "base_uri": "https://localhost:8080/"
        },
        "id": "ETMfWEWdQjvb",
        "outputId": "62b57c69-ab55-4622-a284-d92aeeb39cba"
      },
      "execution_count": 7,
      "outputs": [
        {
          "output_type": "execute_result",
          "data": {
            "text/plain": [
              "['/content/drive/MyDrive/Malaria dataset/Train/Uninfected',\n",
              " '/content/drive/MyDrive/Malaria dataset/Train/Parasite']"
            ]
          },
          "metadata": {},
          "execution_count": 7
        }
      ]
    },
    {
      "cell_type": "code",
      "source": [
        "x = Flatten()(vgg19.output)"
      ],
      "metadata": {
        "id": "Jr6j5WJGQmod"
      },
      "execution_count": 8,
      "outputs": []
    },
    {
      "cell_type": "code",
      "source": [
        "prediction = Dense(len(folders), activation='softmax')(x)\n",
        "model =  Model(inputs=vgg19.input, outputs=prediction)\n"
      ],
      "metadata": {
        "id": "6x2b_NDqQsp9"
      },
      "execution_count": 9,
      "outputs": []
    },
    {
      "cell_type": "code",
      "source": [
        "model.summary()"
      ],
      "metadata": {
        "colab": {
          "base_uri": "https://localhost:8080/"
        },
        "id": "LMYiBXOlRB1c",
        "outputId": "4f1dcb52-b495-46b3-9478-16511fb69f4e"
      },
      "execution_count": 10,
      "outputs": [
        {
          "output_type": "stream",
          "name": "stdout",
          "text": [
            "Model: \"model\"\n",
            "_________________________________________________________________\n",
            " Layer (type)                Output Shape              Param #   \n",
            "=================================================================\n",
            " input_1 (InputLayer)        [(None, 224, 224, 3)]     0         \n",
            "                                                                 \n",
            " block1_conv1 (Conv2D)       (None, 224, 224, 64)      1792      \n",
            "                                                                 \n",
            " block1_conv2 (Conv2D)       (None, 224, 224, 64)      36928     \n",
            "                                                                 \n",
            " block1_pool (MaxPooling2D)  (None, 112, 112, 64)      0         \n",
            "                                                                 \n",
            " block2_conv1 (Conv2D)       (None, 112, 112, 128)     73856     \n",
            "                                                                 \n",
            " block2_conv2 (Conv2D)       (None, 112, 112, 128)     147584    \n",
            "                                                                 \n",
            " block2_pool (MaxPooling2D)  (None, 56, 56, 128)       0         \n",
            "                                                                 \n",
            " block3_conv1 (Conv2D)       (None, 56, 56, 256)       295168    \n",
            "                                                                 \n",
            " block3_conv2 (Conv2D)       (None, 56, 56, 256)       590080    \n",
            "                                                                 \n",
            " block3_conv3 (Conv2D)       (None, 56, 56, 256)       590080    \n",
            "                                                                 \n",
            " block3_conv4 (Conv2D)       (None, 56, 56, 256)       590080    \n",
            "                                                                 \n",
            " block3_pool (MaxPooling2D)  (None, 28, 28, 256)       0         \n",
            "                                                                 \n",
            " block4_conv1 (Conv2D)       (None, 28, 28, 512)       1180160   \n",
            "                                                                 \n",
            " block4_conv2 (Conv2D)       (None, 28, 28, 512)       2359808   \n",
            "                                                                 \n",
            " block4_conv3 (Conv2D)       (None, 28, 28, 512)       2359808   \n",
            "                                                                 \n",
            " block4_conv4 (Conv2D)       (None, 28, 28, 512)       2359808   \n",
            "                                                                 \n",
            " block4_pool (MaxPooling2D)  (None, 14, 14, 512)       0         \n",
            "                                                                 \n",
            " block5_conv1 (Conv2D)       (None, 14, 14, 512)       2359808   \n",
            "                                                                 \n",
            " block5_conv2 (Conv2D)       (None, 14, 14, 512)       2359808   \n",
            "                                                                 \n",
            " block5_conv3 (Conv2D)       (None, 14, 14, 512)       2359808   \n",
            "                                                                 \n",
            " block5_conv4 (Conv2D)       (None, 14, 14, 512)       2359808   \n",
            "                                                                 \n",
            " block5_pool (MaxPooling2D)  (None, 7, 7, 512)         0         \n",
            "                                                                 \n",
            " flatten (Flatten)           (None, 25088)             0         \n",
            "                                                                 \n",
            " dense (Dense)               (None, 2)                 50178     \n",
            "                                                                 \n",
            "=================================================================\n",
            "Total params: 20,074,562\n",
            "Trainable params: 50,178\n",
            "Non-trainable params: 20,024,384\n",
            "_________________________________________________________________\n"
          ]
        }
      ]
    },
    {
      "cell_type": "code",
      "source": [
        "model.compile(\n",
        "    loss='categorical_crossentropy',\n",
        "    optimizer='adam',\n",
        "    metrics=['accuracy']\n",
        ")"
      ],
      "metadata": {
        "id": "4sMsH5JgREGT"
      },
      "execution_count": 11,
      "outputs": []
    },
    {
      "cell_type": "code",
      "source": [
        "from tensorflow.keras.preprocessing.image import ImageDataGenerator"
      ],
      "metadata": {
        "id": "01KPeW3nRbUb"
      },
      "execution_count": 12,
      "outputs": []
    },
    {
      "cell_type": "code",
      "source": [
        "train_datagen = ImageDataGenerator(rescale= 1./255,\n",
        "                      shear_range= 0.2,\n",
        "                      zoom_range = 0.2,\n",
        "                      horizontal_flip = True\n",
        "                      )\n",
        "test_datagen = ImageDataGenerator(rescale=1./255)"
      ],
      "metadata": {
        "id": "lXFBer7QRuI8"
      },
      "execution_count": 13,
      "outputs": []
    },
    {
      "cell_type": "code",
      "source": [
        "training_set = train_datagen.flow_from_directory(train_path,\n",
        "              target_size = (224, 224),\n",
        "              batch_size = 32,\n",
        "              class_mode = 'categorical'\n",
        "              )"
      ],
      "metadata": {
        "colab": {
          "base_uri": "https://localhost:8080/"
        },
        "id": "0x8HbykeSVev",
        "outputId": "4d7f5827-4d05-4ebd-f752-bb0885b41868"
      },
      "execution_count": 14,
      "outputs": [
        {
          "output_type": "stream",
          "name": "stdout",
          "text": [
            "Found 416 images belonging to 2 classes.\n"
          ]
        }
      ]
    },
    {
      "cell_type": "code",
      "source": [
        "test_set = test_datagen.flow_from_directory(test_path,\n",
        "              target_size = (224, 224),\n",
        "              batch_size = 32,\n",
        "              class_mode = 'categorical'\n",
        "              )"
      ],
      "metadata": {
        "colab": {
          "base_uri": "https://localhost:8080/"
        },
        "id": "uRazCZigS4VD",
        "outputId": "6bdc7d9e-3489-447b-a074-ef92f3111e5a"
      },
      "execution_count": 15,
      "outputs": [
        {
          "output_type": "stream",
          "name": "stdout",
          "text": [
            "Found 134 images belonging to 2 classes.\n"
          ]
        }
      ]
    },
    {
      "cell_type": "code",
      "source": [
        "r = model.fit_generator(\n",
        "    training_set,\n",
        "    validation_data = test_set,\n",
        "    epochs=50,\n",
        "    steps_per_epoch= len(training_set),\n",
        "    validation_steps = len(test_set)\n",
        ")"
      ],
      "metadata": {
        "colab": {
          "base_uri": "https://localhost:8080/"
        },
        "id": "6ywvjqC4VhRn",
        "outputId": "3e5ca6d8-6a79-4d37-90b2-ebfb09190b34"
      },
      "execution_count": 45,
      "outputs": [
        {
          "output_type": "stream",
          "name": "stderr",
          "text": [
            "<ipython-input-45-92f0ef60333d>:1: UserWarning: `Model.fit_generator` is deprecated and will be removed in a future version. Please use `Model.fit`, which supports generators.\n",
            "  r = model.fit_generator(\n"
          ]
        },
        {
          "output_type": "stream",
          "name": "stdout",
          "text": [
            "Epoch 1/50\n",
            "13/13 [==============================] - 7s 504ms/step - loss: 0.2905 - accuracy: 0.8870 - val_loss: 0.4638 - val_accuracy: 0.7388\n",
            "Epoch 2/50\n",
            "13/13 [==============================] - 7s 500ms/step - loss: 0.2431 - accuracy: 0.8798 - val_loss: 0.3174 - val_accuracy: 0.8209\n",
            "Epoch 3/50\n",
            "13/13 [==============================] - 7s 500ms/step - loss: 0.1754 - accuracy: 0.9423 - val_loss: 0.2889 - val_accuracy: 0.8881\n",
            "Epoch 4/50\n",
            "13/13 [==============================] - 6s 495ms/step - loss: 0.1821 - accuracy: 0.9351 - val_loss: 0.2574 - val_accuracy: 0.9104\n",
            "Epoch 5/50\n",
            "13/13 [==============================] - 6s 493ms/step - loss: 0.1865 - accuracy: 0.9279 - val_loss: 0.2498 - val_accuracy: 0.9030\n",
            "Epoch 6/50\n",
            "13/13 [==============================] - 7s 507ms/step - loss: 0.1755 - accuracy: 0.9447 - val_loss: 0.5562 - val_accuracy: 0.7090\n",
            "Epoch 7/50\n",
            "13/13 [==============================] - 7s 497ms/step - loss: 0.1980 - accuracy: 0.9231 - val_loss: 0.2930 - val_accuracy: 0.8433\n",
            "Epoch 8/50\n",
            "13/13 [==============================] - 7s 512ms/step - loss: 0.1574 - accuracy: 0.9375 - val_loss: 0.2385 - val_accuracy: 0.9254\n",
            "Epoch 9/50\n",
            "13/13 [==============================] - 7s 520ms/step - loss: 0.1487 - accuracy: 0.9519 - val_loss: 0.2322 - val_accuracy: 0.9254\n",
            "Epoch 10/50\n",
            "13/13 [==============================] - 7s 504ms/step - loss: 0.1800 - accuracy: 0.9255 - val_loss: 0.3885 - val_accuracy: 0.8060\n",
            "Epoch 11/50\n",
            "13/13 [==============================] - 7s 503ms/step - loss: 0.1365 - accuracy: 0.9543 - val_loss: 0.2205 - val_accuracy: 0.9179\n",
            "Epoch 12/50\n",
            "13/13 [==============================] - 7s 509ms/step - loss: 0.1549 - accuracy: 0.9399 - val_loss: 0.5476 - val_accuracy: 0.7463\n",
            "Epoch 13/50\n",
            "13/13 [==============================] - 7s 517ms/step - loss: 0.1415 - accuracy: 0.9615 - val_loss: 0.2257 - val_accuracy: 0.9030\n",
            "Epoch 14/50\n",
            "13/13 [==============================] - 7s 499ms/step - loss: 0.1151 - accuracy: 0.9663 - val_loss: 0.2700 - val_accuracy: 0.8881\n",
            "Epoch 15/50\n",
            "13/13 [==============================] - 7s 504ms/step - loss: 0.1309 - accuracy: 0.9495 - val_loss: 0.2490 - val_accuracy: 0.8955\n",
            "Epoch 16/50\n",
            "13/13 [==============================] - 7s 498ms/step - loss: 0.1484 - accuracy: 0.9375 - val_loss: 0.3571 - val_accuracy: 0.8209\n",
            "Epoch 17/50\n",
            "13/13 [==============================] - 7s 508ms/step - loss: 0.1292 - accuracy: 0.9495 - val_loss: 0.2109 - val_accuracy: 0.9104\n",
            "Epoch 18/50\n",
            "13/13 [==============================] - 7s 513ms/step - loss: 0.1032 - accuracy: 0.9688 - val_loss: 0.2515 - val_accuracy: 0.8881\n",
            "Epoch 19/50\n",
            "13/13 [==============================] - 7s 508ms/step - loss: 0.1033 - accuracy: 0.9639 - val_loss: 0.1999 - val_accuracy: 0.9179\n",
            "Epoch 20/50\n",
            "13/13 [==============================] - 7s 498ms/step - loss: 0.1073 - accuracy: 0.9688 - val_loss: 0.5457 - val_accuracy: 0.7463\n",
            "Epoch 21/50\n",
            "13/13 [==============================] - 7s 502ms/step - loss: 0.1287 - accuracy: 0.9615 - val_loss: 0.1952 - val_accuracy: 0.9403\n",
            "Epoch 22/50\n",
            "13/13 [==============================] - 7s 502ms/step - loss: 0.1062 - accuracy: 0.9591 - val_loss: 0.2282 - val_accuracy: 0.9030\n",
            "Epoch 23/50\n",
            "13/13 [==============================] - 7s 502ms/step - loss: 0.0955 - accuracy: 0.9736 - val_loss: 0.2162 - val_accuracy: 0.9403\n",
            "Epoch 24/50\n",
            "13/13 [==============================] - 7s 506ms/step - loss: 0.0967 - accuracy: 0.9760 - val_loss: 0.4441 - val_accuracy: 0.7985\n",
            "Epoch 25/50\n",
            "13/13 [==============================] - 7s 503ms/step - loss: 0.1185 - accuracy: 0.9663 - val_loss: 0.2863 - val_accuracy: 0.8955\n",
            "Epoch 26/50\n",
            "13/13 [==============================] - 7s 521ms/step - loss: 0.0829 - accuracy: 0.9808 - val_loss: 0.2059 - val_accuracy: 0.9179\n",
            "Epoch 27/50\n",
            "13/13 [==============================] - 7s 515ms/step - loss: 0.0865 - accuracy: 0.9808 - val_loss: 0.2067 - val_accuracy: 0.9254\n",
            "Epoch 28/50\n",
            "13/13 [==============================] - 7s 515ms/step - loss: 0.0871 - accuracy: 0.9736 - val_loss: 0.2251 - val_accuracy: 0.9104\n",
            "Epoch 29/50\n",
            "13/13 [==============================] - 8s 582ms/step - loss: 0.0868 - accuracy: 0.9760 - val_loss: 0.2053 - val_accuracy: 0.9179\n",
            "Epoch 30/50\n",
            "13/13 [==============================] - 7s 501ms/step - loss: 0.0811 - accuracy: 0.9808 - val_loss: 0.3055 - val_accuracy: 0.8731\n",
            "Epoch 31/50\n",
            "13/13 [==============================] - 7s 507ms/step - loss: 0.1094 - accuracy: 0.9519 - val_loss: 0.2123 - val_accuracy: 0.9030\n",
            "Epoch 32/50\n",
            "13/13 [==============================] - 7s 500ms/step - loss: 0.1054 - accuracy: 0.9712 - val_loss: 0.2679 - val_accuracy: 0.8955\n",
            "Epoch 33/50\n",
            "13/13 [==============================] - 7s 502ms/step - loss: 0.1267 - accuracy: 0.9543 - val_loss: 0.3684 - val_accuracy: 0.8209\n",
            "Epoch 34/50\n",
            "13/13 [==============================] - 7s 501ms/step - loss: 0.0903 - accuracy: 0.9784 - val_loss: 0.1762 - val_accuracy: 0.9478\n",
            "Epoch 35/50\n",
            "13/13 [==============================] - 7s 499ms/step - loss: 0.0889 - accuracy: 0.9736 - val_loss: 0.1959 - val_accuracy: 0.9030\n",
            "Epoch 36/50\n",
            "13/13 [==============================] - 7s 507ms/step - loss: 0.0785 - accuracy: 0.9808 - val_loss: 0.1861 - val_accuracy: 0.9328\n",
            "Epoch 37/50\n",
            "13/13 [==============================] - 7s 499ms/step - loss: 0.1012 - accuracy: 0.9591 - val_loss: 0.2173 - val_accuracy: 0.9254\n",
            "Epoch 38/50\n",
            "13/13 [==============================] - 7s 505ms/step - loss: 0.0684 - accuracy: 0.9856 - val_loss: 0.1925 - val_accuracy: 0.9254\n",
            "Epoch 39/50\n",
            "13/13 [==============================] - 7s 502ms/step - loss: 0.0659 - accuracy: 0.9880 - val_loss: 0.1792 - val_accuracy: 0.9254\n",
            "Epoch 40/50\n",
            "13/13 [==============================] - 7s 503ms/step - loss: 0.0668 - accuracy: 0.9880 - val_loss: 0.1829 - val_accuracy: 0.9104\n",
            "Epoch 41/50\n",
            "13/13 [==============================] - 7s 505ms/step - loss: 0.0809 - accuracy: 0.9784 - val_loss: 0.2066 - val_accuracy: 0.8955\n",
            "Epoch 42/50\n",
            "13/13 [==============================] - 7s 505ms/step - loss: 0.0756 - accuracy: 0.9736 - val_loss: 0.3612 - val_accuracy: 0.8433\n",
            "Epoch 43/50\n",
            "13/13 [==============================] - 7s 517ms/step - loss: 0.0759 - accuracy: 0.9688 - val_loss: 0.1694 - val_accuracy: 0.9179\n",
            "Epoch 44/50\n",
            "13/13 [==============================] - 7s 529ms/step - loss: 0.0721 - accuracy: 0.9784 - val_loss: 0.1804 - val_accuracy: 0.9104\n",
            "Epoch 45/50\n",
            "13/13 [==============================] - 7s 516ms/step - loss: 0.0877 - accuracy: 0.9760 - val_loss: 0.2650 - val_accuracy: 0.8881\n",
            "Epoch 46/50\n",
            "13/13 [==============================] - 7s 514ms/step - loss: 0.0628 - accuracy: 0.9832 - val_loss: 0.1605 - val_accuracy: 0.9328\n",
            "Epoch 47/50\n",
            "13/13 [==============================] - 7s 499ms/step - loss: 0.0551 - accuracy: 0.9880 - val_loss: 0.1637 - val_accuracy: 0.9328\n",
            "Epoch 48/50\n",
            "13/13 [==============================] - 7s 502ms/step - loss: 0.0753 - accuracy: 0.9832 - val_loss: 0.2521 - val_accuracy: 0.8881\n",
            "Epoch 49/50\n",
            "13/13 [==============================] - 8s 598ms/step - loss: 0.0638 - accuracy: 0.9856 - val_loss: 0.1541 - val_accuracy: 0.9552\n",
            "Epoch 50/50\n",
            "13/13 [==============================] - 7s 503ms/step - loss: 0.0677 - accuracy: 0.9784 - val_loss: 0.2449 - val_accuracy: 0.8881\n"
          ]
        }
      ]
    },
    {
      "cell_type": "markdown",
      "source": [
        "# Plot Validation Loss"
      ],
      "metadata": {
        "id": "-jA_PKk6XTid"
      }
    },
    {
      "cell_type": "code",
      "source": [
        "plt.plot(r.history['loss'], label='train loss')\n",
        "plt.plot(r.history['val_loss'], label='val loss')\n",
        "plt.legend()\n",
        "plt.show()"
      ],
      "metadata": {
        "colab": {
          "base_uri": "https://localhost:8080/",
          "height": 265
        },
        "id": "uYzKfSxzWvJI",
        "outputId": "dbffe61a-ad30-462a-d5de-b1d41fe703be"
      },
      "execution_count": 46,
      "outputs": [
        {
          "output_type": "display_data",
          "data": {
            "text/plain": [
              "<Figure size 432x288 with 1 Axes>"
            ],
            "image/png": "[encoded data removed]"
          },
          "metadata": {
            "needs_background": "light"
          }
        }
      ]
    },
    {
      "cell_type": "markdown",
      "source": [
        "#Training & Validation Accuracy"
      ],
      "metadata": {
        "id": "EbuWc1DcXyXf"
      }
    },
    {
      "cell_type": "code",
      "source": [
        "plt.plot(r.history['accuracy'], label='Train Acc')\n",
        "plt.plot(r.history['val_accuracy'], label='Valid Acc')\n",
        "plt.legend()\n",
        "plt.show();"
      ],
      "metadata": {
        "colab": {
          "base_uri": "https://localhost:8080/",
          "height": 268
        },
        "id": "EN4RsSoDXx5_",
        "outputId": "c4120052-247b-4a25-db31-881ed124166f"
      },
      "execution_count": 47,
      "outputs": [
        {
          "output_type": "display_data",
          "data": {
            "text/plain": [
              "<Figure size 432x288 with 1 Axes>"
            ],
            "image/png": "[encoded data removed]"
          },
          "metadata": {
            "needs_background": "light"
          }
        }
      ]
    },
    {
      "cell_type": "code",
      "source": [
        "model.save('model_vgg19.h5')"
      ],
      "metadata": {
        "id": "QH9SG0fjZZzc"
      },
      "execution_count": 94,
      "outputs": []
    },
    {
      "cell_type": "markdown",
      "source": [
        "# Predict Testing Data"
      ],
      "metadata": {
        "id": "1mgFJie7ZhE7"
      }
    },
    {
      "cell_type": "code",
      "source": [
        "y_pred = model.predict(test_set)"
      ],
      "metadata": {
        "colab": {
          "base_uri": "https://localhost:8080/"
        },
        "id": "X1L7u5QUZeZd",
        "outputId": "165d0d6f-a800-4ecd-aa75-d743b753eb66"
      },
      "execution_count": 49,
      "outputs": [
        {
          "output_type": "stream",
          "name": "stdout",
          "text": [
            "5/5 [==============================] - 1s 184ms/step\n"
          ]
        }
      ]
    },
    {
      "cell_type": "code",
      "source": [
        "y_pred"
      ],
      "metadata": {
        "colab": {
          "base_uri": "https://localhost:8080/"
        },
        "id": "pUOU-MvpZoOK",
        "outputId": "af7723de-7bfd-41e8-f397-ef74bb16219a"
      },
      "execution_count": 50,
      "outputs": [
        {
          "output_type": "execute_result",
          "data": {
            "text/plain": [
              "array([[1.65694151e-02, 9.83430624e-01],\n",
              "       [8.36348414e-01, 1.63651630e-01],\n",
              "       [9.84766901e-01, 1.52330343e-02],\n",
              "       [5.40534377e-01, 4.59465653e-01],\n",
              "       [9.03341234e-01, 9.66587961e-02],\n",
              "       [4.44596231e-01, 5.55403769e-01],\n",
              "       [9.90679443e-01, 9.32050776e-03],\n",
              "       [3.48626152e-02, 9.65137362e-01],\n",
              "       [3.87442589e-01, 6.12557471e-01],\n",
              "       [8.99090111e-01, 1.00909896e-01],\n",
              "       [8.23634416e-02, 9.17636573e-01],\n",
              "       [4.52500671e-01, 5.47499359e-01],\n",
              "       [9.99997735e-01, 2.29558646e-06],\n",
              "       [4.08665687e-02, 9.59133446e-01],\n",
              "       [7.00996757e-01, 2.99003214e-01],\n",
              "       [5.81432274e-03, 9.94185686e-01],\n",
              "       [2.99791604e-01, 7.00208426e-01],\n",
              "       [6.05225079e-02, 9.39477503e-01],\n",
              "       [9.72679436e-01, 2.73206346e-02],\n",
              "       [9.99844313e-01, 1.55623129e-04],\n",
              "       [3.42526361e-02, 9.65747356e-01],\n",
              "       [8.94868553e-01, 1.05131477e-01],\n",
              "       [9.99926686e-01, 7.33450870e-05],\n",
              "       [1.97544202e-01, 8.02455783e-01],\n",
              "       [1.02280844e-02, 9.89771903e-01],\n",
              "       [3.65083739e-02, 9.63491619e-01],\n",
              "       [9.43809688e-01, 5.61902784e-02],\n",
              "       [9.58219409e-01, 4.17806581e-02],\n",
              "       [3.39685939e-02, 9.66031373e-01],\n",
              "       [9.56947565e-01, 4.30524349e-02],\n",
              "       [9.99601543e-01, 3.98460281e-04],\n",
              "       [3.58893871e-02, 9.64110613e-01],\n",
              "       [1.06373653e-02, 9.89362657e-01],\n",
              "       [9.99929667e-01, 7.03292826e-05],\n",
              "       [2.98938066e-01, 7.01061964e-01],\n",
              "       [1.05887325e-02, 9.89411294e-01],\n",
              "       [4.58079949e-03, 9.95419264e-01],\n",
              "       [1.92113630e-02, 9.80788648e-01],\n",
              "       [9.96883571e-01, 3.11638135e-03],\n",
              "       [9.56070423e-01, 4.39295433e-02],\n",
              "       [9.99999762e-01, 2.71170251e-07],\n",
              "       [2.12755986e-02, 9.78724420e-01],\n",
              "       [1.00000000e+00, 8.86008156e-09],\n",
              "       [5.75522423e-01, 4.24477547e-01],\n",
              "       [9.97254312e-01, 2.74575315e-03],\n",
              "       [9.99958873e-01, 4.11041838e-05],\n",
              "       [9.94312763e-01, 5.68726053e-03],\n",
              "       [9.99985933e-01, 1.40248803e-05],\n",
              "       [1.38019966e-02, 9.86198008e-01],\n",
              "       [8.61891031e-01, 1.38108909e-01],\n",
              "       [9.99932289e-01, 6.76735071e-05],\n",
              "       [8.92743561e-03, 9.91072595e-01],\n",
              "       [2.21146539e-01, 7.78853416e-01],\n",
              "       [1.41681075e-01, 8.58318865e-01],\n",
              "       [2.56329048e-02, 9.74367082e-01],\n",
              "       [5.68051897e-02, 9.43194866e-01],\n",
              "       [7.60292470e-01, 2.39707559e-01],\n",
              "       [8.05739284e-01, 1.94260731e-01],\n",
              "       [5.90496929e-03, 9.94094968e-01],\n",
              "       [9.81915474e-01, 1.80844739e-02],\n",
              "       [6.64528191e-01, 3.35471809e-01],\n",
              "       [9.97197628e-01, 2.80232029e-03],\n",
              "       [1.41545897e-02, 9.85845447e-01],\n",
              "       [1.39963785e-02, 9.86003578e-01],\n",
              "       [1.08035784e-02, 9.89196420e-01],\n",
              "       [6.96053028e-01, 3.03947002e-01],\n",
              "       [6.39718056e-01, 3.60281944e-01],\n",
              "       [9.99444306e-01, 5.55671868e-04],\n",
              "       [9.93531644e-01, 6.46843715e-03],\n",
              "       [9.99997497e-01, 2.54915426e-06],\n",
              "       [9.94556665e-01, 5.44330291e-03],\n",
              "       [1.56711787e-02, 9.84328866e-01],\n",
              "       [9.99800146e-01, 1.99844770e-04],\n",
              "       [1.24648763e-02, 9.87535119e-01],\n",
              "       [2.62437701e-01, 7.37562299e-01],\n",
              "       [9.99786198e-01, 2.13799460e-04],\n",
              "       [1.07125351e-02, 9.89287496e-01],\n",
              "       [2.93534212e-02, 9.70646560e-01],\n",
              "       [9.99998569e-01, 1.45461308e-06],\n",
              "       [9.99905467e-01, 9.44904532e-05],\n",
              "       [9.99862194e-01, 1.37820389e-04],\n",
              "       [6.44124091e-01, 3.55875939e-01],\n",
              "       [1.68418333e-01, 8.31581652e-01],\n",
              "       [9.99810755e-01, 1.89261933e-04],\n",
              "       [9.99929905e-01, 7.00442833e-05],\n",
              "       [7.86402747e-02, 9.21359718e-01],\n",
              "       [6.92758203e-01, 3.07241738e-01],\n",
              "       [3.87565345e-01, 6.12434626e-01],\n",
              "       [9.99989033e-01, 1.09302709e-05],\n",
              "       [9.95444179e-01, 4.55583679e-03],\n",
              "       [7.54064769e-02, 9.24593568e-01],\n",
              "       [6.46959960e-01, 3.53040040e-01],\n",
              "       [5.47221899e-02, 9.45277810e-01],\n",
              "       [9.99727547e-01, 2.72433419e-04],\n",
              "       [7.09734261e-01, 2.90265769e-01],\n",
              "       [3.03309321e-01, 6.96690679e-01],\n",
              "       [9.90252256e-01, 9.74773243e-03],\n",
              "       [8.85161292e-03, 9.91148353e-01],\n",
              "       [9.91914988e-01, 8.08506832e-03],\n",
              "       [3.68893035e-02, 9.63110626e-01],\n",
              "       [9.99931693e-01, 6.83058461e-05],\n",
              "       [9.98119175e-01, 1.88084098e-03],\n",
              "       [1.00000000e+00, 2.73353571e-08],\n",
              "       [9.98089492e-01, 1.91052875e-03],\n",
              "       [9.99235868e-01, 7.64103723e-04],\n",
              "       [6.47673830e-02, 9.35232580e-01],\n",
              "       [1.87629350e-02, 9.81236994e-01],\n",
              "       [9.99520302e-01, 4.79747046e-04],\n",
              "       [9.99986887e-01, 1.30699218e-05],\n",
              "       [9.99117672e-01, 8.82269582e-04],\n",
              "       [8.84357654e-03, 9.91156459e-01],\n",
              "       [9.11518812e-01, 8.84812400e-02],\n",
              "       [8.10196817e-01, 1.89803168e-01],\n",
              "       [7.01542897e-03, 9.92984653e-01],\n",
              "       [2.07434762e-02, 9.79256511e-01],\n",
              "       [6.16141260e-01, 3.83858770e-01],\n",
              "       [9.99894619e-01, 1.05334497e-04],\n",
              "       [9.99275386e-01, 7.24631012e-04],\n",
              "       [5.18074594e-02, 9.48192537e-01],\n",
              "       [9.99944091e-01, 5.58803367e-05],\n",
              "       [2.59755589e-02, 9.74024415e-01],\n",
              "       [4.84315813e-01, 5.15684187e-01],\n",
              "       [9.17888656e-02, 9.08211172e-01],\n",
              "       [3.51716876e-01, 6.48283124e-01],\n",
              "       [9.77067947e-01, 2.29320694e-02],\n",
              "       [9.88434911e-01, 1.15650361e-02],\n",
              "       [9.98403847e-01, 1.59613113e-03],\n",
              "       [2.09609922e-02, 9.79039013e-01],\n",
              "       [5.86850822e-01, 4.13149148e-01],\n",
              "       [9.98709679e-01, 1.29027897e-03],\n",
              "       [3.05716768e-02, 9.69428360e-01],\n",
              "       [4.99202728e-01, 5.00797272e-01],\n",
              "       [9.20015156e-01, 7.99847990e-02],\n",
              "       [7.04423130e-01, 2.95576870e-01]], dtype=float32)"
            ]
          },
          "metadata": {},
          "execution_count": 50
        }
      ]
    },
    {
      "cell_type": "code",
      "source": [
        "y_pred = np.argmax(y_pred, axis=1)"
      ],
      "metadata": {
        "id": "AgKb8QbaZpY_"
      },
      "execution_count": 51,
      "outputs": []
    },
    {
      "cell_type": "code",
      "source": [
        "y_pred"
      ],
      "metadata": {
        "colab": {
          "base_uri": "https://localhost:8080/"
        },
        "id": "3-5_F_efZx5Z",
        "outputId": "22f24344-0d78-4b34-90e0-509ff0f787c6"
      },
      "execution_count": 52,
      "outputs": [
        {
          "output_type": "execute_result",
          "data": {
            "text/plain": [
              "array([1, 0, 0, 0, 0, 1, 0, 1, 1, 0, 1, 1, 0, 1, 0, 1, 1, 1, 0, 0, 1, 0,\n",
              "       0, 1, 1, 1, 0, 0, 1, 0, 0, 1, 1, 0, 1, 1, 1, 1, 0, 0, 0, 1, 0, 0,\n",
              "       0, 0, 0, 0, 1, 0, 0, 1, 1, 1, 1, 1, 0, 0, 1, 0, 0, 0, 1, 1, 1, 0,\n",
              "       0, 0, 0, 0, 0, 1, 0, 1, 1, 0, 1, 1, 0, 0, 0, 0, 1, 0, 0, 1, 0, 1,\n",
              "       0, 0, 1, 0, 1, 0, 0, 1, 0, 1, 0, 1, 0, 0, 0, 0, 0, 1, 1, 0, 0, 0,\n",
              "       1, 0, 0, 1, 1, 0, 0, 0, 1, 0, 1, 1, 1, 1, 0, 0, 0, 1, 0, 0, 1, 1,\n",
              "       0, 0])"
            ]
          },
          "metadata": {},
          "execution_count": 52
        }
      ]
    },
    {
      "cell_type": "code",
      "source": [
        "for i in range(len(y_pred)):\n",
        "  if y_pred[i] == 0:\n",
        "    print(\"infected\")\n",
        "  else:\n",
        "    print(\"uninfected\")\n",
        "\n"
      ],
      "metadata": {
        "colab": {
          "base_uri": "https://localhost:8080/"
        },
        "id": "fbszct7lgwmG",
        "outputId": "810311a3-db2e-493c-beae-2dd4142c5d0b"
      },
      "execution_count": 53,
      "outputs": [
        {
          "output_type": "stream",
          "name": "stdout",
          "text": [
            "uninfected\n",
            "infected\n",
            "infected\n",
            "infected\n",
            "infected\n",
            "uninfected\n",
            "infected\n",
            "uninfected\n",
            "uninfected\n",
            "infected\n",
            "uninfected\n",
            "uninfected\n",
            "infected\n",
            "uninfected\n",
            "infected\n",
            "uninfected\n",
            "uninfected\n",
            "uninfected\n",
            "infected\n",
            "infected\n",
            "uninfected\n",
            "infected\n",
            "infected\n",
            "uninfected\n",
            "uninfected\n",
            "uninfected\n",
            "infected\n",
            "infected\n",
            "uninfected\n",
            "infected\n",
            "infected\n",
            "uninfected\n",
            "uninfected\n",
            "infected\n",
            "uninfected\n",
            "uninfected\n",
            "uninfected\n",
            "uninfected\n",
            "infected\n",
            "infected\n",
            "infected\n",
            "uninfected\n",
            "infected\n",
            "infected\n",
            "infected\n",
            "infected\n",
            "infected\n",
            "infected\n",
            "uninfected\n",
            "infected\n",
            "infected\n",
            "uninfected\n",
            "uninfected\n",
            "uninfected\n",
            "uninfected\n",
            "uninfected\n",
            "infected\n",
            "infected\n",
            "uninfected\n",
            "infected\n",
            "infected\n",
            "infected\n",
            "uninfected\n",
            "uninfected\n",
            "uninfected\n",
            "infected\n",
            "infected\n",
            "infected\n",
            "infected\n",
            "infected\n",
            "infected\n",
            "uninfected\n",
            "infected\n",
            "uninfected\n",
            "uninfected\n",
            "infected\n",
            "uninfected\n",
            "uninfected\n",
            "infected\n",
            "infected\n",
            "infected\n",
            "infected\n",
            "uninfected\n",
            "infected\n",
            "infected\n",
            "uninfected\n",
            "infected\n",
            "uninfected\n",
            "infected\n",
            "infected\n",
            "uninfected\n",
            "infected\n",
            "uninfected\n",
            "infected\n",
            "infected\n",
            "uninfected\n",
            "infected\n",
            "uninfected\n",
            "infected\n",
            "uninfected\n",
            "infected\n",
            "infected\n",
            "infected\n",
            "infected\n",
            "infected\n",
            "uninfected\n",
            "uninfected\n",
            "infected\n",
            "infected\n",
            "infected\n",
            "uninfected\n",
            "infected\n",
            "infected\n",
            "uninfected\n",
            "uninfected\n",
            "infected\n",
            "infected\n",
            "infected\n",
            "uninfected\n",
            "infected\n",
            "uninfected\n",
            "uninfected\n",
            "uninfected\n",
            "uninfected\n",
            "infected\n",
            "infected\n",
            "infected\n",
            "uninfected\n",
            "infected\n",
            "infected\n",
            "uninfected\n",
            "uninfected\n",
            "infected\n",
            "infected\n"
          ]
        }
      ]
    },
    {
      "cell_type": "code",
      "source": [
        "from tensorflow.keras.models import load_model\n",
        "from tensorflow.keras.preprocessing import image"
      ],
      "metadata": {
        "id": "dHdaWuEVZy00"
      },
      "execution_count": 54,
      "outputs": []
    },
    {
      "cell_type": "code",
      "source": [
        "model = load_model('model_vgg19.h5')"
      ],
      "metadata": {
        "id": "ktswRg1OaBDU"
      },
      "execution_count": 95,
      "outputs": []
    },
    {
      "cell_type": "code",
      "source": [
        "model"
      ],
      "metadata": {
        "colab": {
          "base_uri": "https://localhost:8080/"
        },
        "id": "Cvt9Bw3LhJb2",
        "outputId": "2bfa66f6-f179-43d5-f4e0-fc61a6b9e956"
      },
      "execution_count": 96,
      "outputs": [
        {
          "output_type": "execute_result",
          "data": {
            "text/plain": [
              "<keras.engine.functional.Functional at 0x7fa134085d90>"
            ]
          },
          "metadata": {},
          "execution_count": 96
        }
      ]
    },
    {
      "cell_type": "code",
      "source": [
        "# /content/drive/MyDrive/Malaria dataset/Test/Parasite/C39P4thinF_original_IMG_20150622_105554_cell_14.png\n",
        "img = image.load_img('/content/drive/MyDrive/Malaria dataset/Test/Parasite/C39P4thinF_original_IMG_20150622_105554_cell_18.png',\n",
        "                    target_size=(224,224))\n",
        "# img = image.load_img('/content/drive/MyDrive/Malaria dataset/Test/Parasite/C39P4thinF_original_IMG_20150622_110115_cell_133.png',\n",
        "                    # target_size=(224,224))\n",
        "\n",
        "# img = image.load_img('/content/drive/MyDrive/Malaria dataset/Test/Parasite/C39P4thinF_original_IMG_20150622_105554_cell_10.png',\n",
        "                    # target_size=(224,224))"
      ],
      "metadata": {
        "id": "4qSGdMCzaEnO"
      },
      "execution_count": 159,
      "outputs": []
    },
    {
      "cell_type": "code",
      "source": [
        "img"
      ],
      "metadata": {
        "colab": {
          "base_uri": "https://localhost:8080/",
          "height": 241
        },
        "id": "y82WkRtRaWVB",
        "outputId": "c52a55d3-8874-4cd5-9e0b-32ecbb5eabcf"
      },
      "execution_count": 160,
      "outputs": [
        {
          "output_type": "execute_result",
          "data": {
            "text/plain": [
              "<PIL.Image.Image image mode=RGB size=224x224 at 0x7FA112476E20>"
            ],
            "image/png": "[encoded data removed]"
          },
          "metadata": {},
          "execution_count": 160
        }
      ]
    },
    {
      "cell_type": "code",
      "source": [
        "# /content/drive/MyDrive/Malaria dataset/Test/Uninfected/C3thin_original_IMG_20150608_162922_cell_145.png\n",
        "img = image.load_img('/content/drive/MyDrive/Malaria dataset/Test/Uninfected/C3thin_original_IMG_20150608_162922_cell_145.png'\n",
        ", target_size=(224,224))\n"
      ],
      "metadata": {
        "id": "Srpjev85cEfB"
      },
      "execution_count": 232,
      "outputs": []
    },
    {
      "cell_type": "code",
      "source": [
        "img"
      ],
      "metadata": {
        "id": "K44a4_Hlcdsy",
        "colab": {
          "base_uri": "https://localhost:8080/",
          "height": 241
        },
        "outputId": "db3035ed-b295-47a6-e8b9-0f1f0479b61f"
      },
      "execution_count": 233,
      "outputs": [
        {
          "output_type": "execute_result",
          "data": {
            "text/plain": [
              "<PIL.Image.Image image mode=RGB size=224x224 at 0x7FA112455550>"
            ],
            "image/png": "[encoded data removed]"
          },
          "metadata": {},
          "execution_count": 233
        }
      ]
    },
    {
      "cell_type": "code",
      "source": [
        "x = image.img_to_array(img)"
      ],
      "metadata": {
        "id": "ZAErp3FmaQ-p"
      },
      "execution_count": 234,
      "outputs": []
    },
    {
      "cell_type": "code",
      "source": [
        "x.shape"
      ],
      "metadata": {
        "colab": {
          "base_uri": "https://localhost:8080/"
        },
        "id": "8iQZPSqaaVnz",
        "outputId": "edaacf17-830c-4056-9c6c-d5606a8907cd"
      },
      "execution_count": 235,
      "outputs": [
        {
          "output_type": "execute_result",
          "data": {
            "text/plain": [
              "(224, 224, 3)"
            ]
          },
          "metadata": {},
          "execution_count": 235
        }
      ]
    },
    {
      "cell_type": "code",
      "source": [
        "x= x/255"
      ],
      "metadata": {
        "id": "Xb4J6qS-abvl"
      },
      "execution_count": 236,
      "outputs": []
    },
    {
      "cell_type": "code",
      "source": [
        "x = np.expand_dims(x, axis=0)\n",
        "img_data = preprocess_input(x)\n",
        "print(img_data.shape)\n"
      ],
      "metadata": {
        "colab": {
          "base_uri": "https://localhost:8080/"
        },
        "id": "hZAsh-4cadtF",
        "outputId": "70e94a7f-1a96-4f80-cb0f-70e5f0908e48"
      },
      "execution_count": 237,
      "outputs": [
        {
          "output_type": "stream",
          "name": "stdout",
          "text": [
            "(1, 224, 224, 3)\n"
          ]
        }
      ]
    },
    {
      "cell_type": "code",
      "source": [
        "# img_data"
      ],
      "metadata": {
        "id": "lpnfh-AmbB5n"
      },
      "execution_count": 81,
      "outputs": []
    },
    {
      "cell_type": "code",
      "source": [
        "model.predict(img_data)"
      ],
      "metadata": {
        "colab": {
          "base_uri": "https://localhost:8080/"
        },
        "id": "yNDXZHs8ao89",
        "outputId": "924b8fae-4b4d-4f62-8b9e-301766e97a41"
      },
      "execution_count": 238,
      "outputs": [
        {
          "output_type": "stream",
          "name": "stdout",
          "text": [
            "1/1 [==============================] - 0s 15ms/step\n"
          ]
        },
        {
          "output_type": "execute_result",
          "data": {
            "text/plain": [
              "array([[0.9896086 , 0.01039145]], dtype=float32)"
            ]
          },
          "metadata": {},
          "execution_count": 238
        }
      ]
    },
    {
      "cell_type": "code",
      "source": [
        "a = np.argmax(model.predict(img_data), axis=1)"
      ],
      "metadata": {
        "colab": {
          "base_uri": "https://localhost:8080/"
        },
        "id": "A2kxV9fkave9",
        "outputId": "98212394-c733-4817-f5ef-1ab9fddc647d"
      },
      "execution_count": 239,
      "outputs": [
        {
          "output_type": "stream",
          "name": "stdout",
          "text": [
            "1/1 [==============================] - 0s 17ms/step\n"
          ]
        }
      ]
    },
    {
      "cell_type": "code",
      "source": [
        "a"
      ],
      "metadata": {
        "colab": {
          "base_uri": "https://localhost:8080/"
        },
        "id": "R16ekHiTbm3k",
        "outputId": "6a218ddb-d3aa-47bd-dd0f-2359843fddf9"
      },
      "execution_count": 240,
      "outputs": [
        {
          "output_type": "execute_result",
          "data": {
            "text/plain": [
              "array([0])"
            ]
          },
          "metadata": {},
          "execution_count": 240
        }
      ]
    },
    {
      "cell_type": "code",
      "source": [
        "if(a==1):\n",
        "  print('Uninfected')\n",
        "else:\n",
        "  print('Infected')"
      ],
      "metadata": {
        "colab": {
          "base_uri": "https://localhost:8080/"
        },
        "id": "KU002wfrbo4A",
        "outputId": "7b19310a-f236-4f3b-9f94-c67399bcca0f"
      },
      "execution_count": 241,
      "outputs": [
        {
          "output_type": "stream",
          "name": "stdout",
          "text": [
            "Infected\n"
          ]
        }
      ]
    },
    {
      "cell_type": "markdown",
      "source": [
        "# Build CNN Model"
      ],
      "metadata": {
        "id": "hB1Up_psvwmq"
      }
    },
    {
      "cell_type": "code",
      "source": [
        "model_cnn = Sequential()\n",
        "model_cnn.add(Conv2D(filters=16, kernel_size=2, padding='same', \n",
        "          activation='relu', input_shape=(224,224,3)))\n",
        "model_cnn.add(MaxPooling2D(pool_size=2))\n",
        "model.add(Dropout(0.25))\n",
        "\n",
        "\n",
        "model_cnn.add(Conv2D(filters=32, kernel_size=2, padding='same', \n",
        "          activation='relu'))\n",
        "model_cnn.add(MaxPooling2D(pool_size=2))\n",
        "model.add(Dropout(0.25))\n",
        "\n",
        "\n",
        "model_cnn.add(Conv2D(filters=64, kernel_size=2, padding='same', \n",
        "          activation='relu'))\n",
        "model_cnn.add(MaxPooling2D(pool_size=2))\n",
        "model.add(Dropout(0.25))\n",
        "\n",
        "\n",
        "model_cnn.add(Flatten())\n",
        "model_cnn.add(Dense(500, activation='relu'))\n",
        "model_cnn.add(Dense(2, activation='softmax'))\n",
        "model_cnn.summary()"
      ],
      "metadata": {
        "id": "9lXpqVh3bxJu",
        "colab": {
          "base_uri": "https://localhost:8080/"
        },
        "outputId": "19cd9b0a-39a2-4658-990c-996b26463c87"
      },
      "execution_count": 214,
      "outputs": [
        {
          "output_type": "stream",
          "name": "stdout",
          "text": [
            "Model: \"sequential_3\"\n",
            "_________________________________________________________________\n",
            " Layer (type)                Output Shape              Param #   \n",
            "=================================================================\n",
            " conv2d_6 (Conv2D)           (None, 224, 224, 16)      208       \n",
            "                                                                 \n",
            " max_pooling2d_6 (MaxPooling  (None, 112, 112, 16)     0         \n",
            " 2D)                                                             \n",
            "                                                                 \n",
            " conv2d_7 (Conv2D)           (None, 112, 112, 32)      2080      \n",
            "                                                                 \n",
            " max_pooling2d_7 (MaxPooling  (None, 56, 56, 32)       0         \n",
            " 2D)                                                             \n",
            "                                                                 \n",
            " conv2d_8 (Conv2D)           (None, 56, 56, 64)        8256      \n",
            "                                                                 \n",
            " max_pooling2d_8 (MaxPooling  (None, 28, 28, 64)       0         \n",
            " 2D)                                                             \n",
            "                                                                 \n",
            " flatten_3 (Flatten)         (None, 50176)             0         \n",
            "                                                                 \n",
            " dense_5 (Dense)             (None, 500)               25088500  \n",
            "                                                                 \n",
            " dense_6 (Dense)             (None, 2)                 1002      \n",
            "                                                                 \n",
            "=================================================================\n",
            "Total params: 25,100,046\n",
            "Trainable params: 25,100,046\n",
            "Non-trainable params: 0\n",
            "_________________________________________________________________\n"
          ]
        }
      ]
    },
    {
      "cell_type": "code",
      "source": [
        "model_cnn.compile(\n",
        "    loss='categorical_crossentropy',\n",
        "    optimizer='adam',\n",
        "    metrics=['accuracy']\n",
        ")"
      ],
      "metadata": {
        "id": "vmQV6VmfwnFY"
      },
      "execution_count": 215,
      "outputs": []
    },
    {
      "cell_type": "code",
      "source": [
        "r  = model_cnn.fit_generator(\n",
        "    training_set,\n",
        "    validation_data = test_set,\n",
        "    epochs=50,\n",
        "    steps_per_epoch=len(training_set),\n",
        "    validation_steps=len(test_set)\n",
        ")"
      ],
      "metadata": {
        "colab": {
          "base_uri": "https://localhost:8080/"
        },
        "id": "HJkFnLLlxxQf",
        "outputId": "161cec49-ca2f-4e86-b322-811bccaca323"
      },
      "execution_count": 216,
      "outputs": [
        {
          "output_type": "stream",
          "name": "stderr",
          "text": [
            "<ipython-input-216-2ede91bd5b6c>:1: UserWarning: `Model.fit_generator` is deprecated and will be removed in a future version. Please use `Model.fit`, which supports generators.\n",
            "  r  = model_cnn.fit_generator(\n"
          ]
        },
        {
          "output_type": "stream",
          "name": "stdout",
          "text": [
            "Epoch 1/50\n",
            "13/13 [==============================] - 6s 449ms/step - loss: 1.6664 - accuracy: 0.5337 - val_loss: 0.8626 - val_accuracy: 0.3209\n",
            "Epoch 2/50\n",
            "13/13 [==============================] - 6s 428ms/step - loss: 0.6994 - accuracy: 0.4760 - val_loss: 0.6721 - val_accuracy: 0.6343\n",
            "Epoch 3/50\n",
            "13/13 [==============================] - 6s 433ms/step - loss: 0.6625 - accuracy: 0.6274 - val_loss: 0.6499 - val_accuracy: 0.6791\n",
            "Epoch 4/50\n",
            "13/13 [==============================] - 6s 439ms/step - loss: 0.6300 - accuracy: 0.6466 - val_loss: 0.7646 - val_accuracy: 0.3806\n",
            "Epoch 5/50\n",
            "13/13 [==============================] - 6s 444ms/step - loss: 0.5818 - accuracy: 0.6995 - val_loss: 0.6918 - val_accuracy: 0.6791\n",
            "Epoch 6/50\n",
            "13/13 [==============================] - 6s 430ms/step - loss: 0.5484 - accuracy: 0.7308 - val_loss: 0.9133 - val_accuracy: 0.3731\n",
            "Epoch 7/50\n",
            "13/13 [==============================] - 6s 424ms/step - loss: 0.4888 - accuracy: 0.7716 - val_loss: 1.1110 - val_accuracy: 0.3582\n",
            "Epoch 8/50\n",
            "13/13 [==============================] - 5s 421ms/step - loss: 0.5139 - accuracy: 0.7260 - val_loss: 0.9315 - val_accuracy: 0.4030\n",
            "Epoch 9/50\n",
            "13/13 [==============================] - 5s 421ms/step - loss: 0.4871 - accuracy: 0.7788 - val_loss: 1.0763 - val_accuracy: 0.3806\n",
            "Epoch 10/50\n",
            "13/13 [==============================] - 6s 422ms/step - loss: 0.4253 - accuracy: 0.8173 - val_loss: 1.4786 - val_accuracy: 0.3433\n",
            "Epoch 11/50\n",
            "13/13 [==============================] - 6s 426ms/step - loss: 0.4460 - accuracy: 0.7740 - val_loss: 0.8254 - val_accuracy: 0.4328\n",
            "Epoch 12/50\n",
            "13/13 [==============================] - 6s 435ms/step - loss: 0.3971 - accuracy: 0.8221 - val_loss: 1.4073 - val_accuracy: 0.3657\n",
            "Epoch 13/50\n",
            "13/13 [==============================] - 6s 429ms/step - loss: 0.4278 - accuracy: 0.7957 - val_loss: 0.8027 - val_accuracy: 0.5149\n",
            "Epoch 14/50\n",
            "13/13 [==============================] - 6s 427ms/step - loss: 0.4020 - accuracy: 0.7981 - val_loss: 0.7982 - val_accuracy: 0.5000\n",
            "Epoch 15/50\n",
            "13/13 [==============================] - 6s 427ms/step - loss: 0.3417 - accuracy: 0.8606 - val_loss: 0.8115 - val_accuracy: 0.5075\n",
            "Epoch 16/50\n",
            "13/13 [==============================] - 6s 440ms/step - loss: 0.3132 - accuracy: 0.8630 - val_loss: 0.7680 - val_accuracy: 0.5149\n",
            "Epoch 17/50\n",
            "13/13 [==============================] - 6s 430ms/step - loss: 0.3238 - accuracy: 0.8558 - val_loss: 1.4293 - val_accuracy: 0.3507\n",
            "Epoch 18/50\n",
            "13/13 [==============================] - 6s 425ms/step - loss: 0.3907 - accuracy: 0.8077 - val_loss: 0.7775 - val_accuracy: 0.5746\n",
            "Epoch 19/50\n",
            "13/13 [==============================] - 6s 426ms/step - loss: 0.3042 - accuracy: 0.8654 - val_loss: 0.7810 - val_accuracy: 0.5746\n",
            "Epoch 20/50\n",
            "13/13 [==============================] - 6s 426ms/step - loss: 0.2845 - accuracy: 0.8966 - val_loss: 1.0060 - val_accuracy: 0.5000\n",
            "Epoch 21/50\n",
            "13/13 [==============================] - 6s 431ms/step - loss: 0.2906 - accuracy: 0.8822 - val_loss: 0.7236 - val_accuracy: 0.6119\n",
            "Epoch 22/50\n",
            "13/13 [==============================] - 6s 429ms/step - loss: 0.2810 - accuracy: 0.8918 - val_loss: 0.7885 - val_accuracy: 0.5821\n",
            "Epoch 23/50\n",
            "13/13 [==============================] - 6s 431ms/step - loss: 0.2624 - accuracy: 0.8966 - val_loss: 0.6967 - val_accuracy: 0.6343\n",
            "Epoch 24/50\n",
            "13/13 [==============================] - 6s 428ms/step - loss: 0.2590 - accuracy: 0.9087 - val_loss: 0.7739 - val_accuracy: 0.4925\n",
            "Epoch 25/50\n",
            "13/13 [==============================] - 6s 427ms/step - loss: 0.2818 - accuracy: 0.8870 - val_loss: 0.5962 - val_accuracy: 0.6791\n",
            "Epoch 26/50\n",
            "13/13 [==============================] - 6s 432ms/step - loss: 0.2320 - accuracy: 0.9255 - val_loss: 0.8450 - val_accuracy: 0.6045\n",
            "Epoch 27/50\n",
            "13/13 [==============================] - 6s 427ms/step - loss: 0.2541 - accuracy: 0.8702 - val_loss: 0.6149 - val_accuracy: 0.6940\n",
            "Epoch 28/50\n",
            "13/13 [==============================] - 6s 435ms/step - loss: 0.1928 - accuracy: 0.9279 - val_loss: 0.6128 - val_accuracy: 0.6493\n",
            "Epoch 29/50\n",
            "13/13 [==============================] - 5s 420ms/step - loss: 0.2071 - accuracy: 0.9159 - val_loss: 0.6009 - val_accuracy: 0.7090\n",
            "Epoch 30/50\n",
            "13/13 [==============================] - 5s 418ms/step - loss: 0.2029 - accuracy: 0.9279 - val_loss: 0.5875 - val_accuracy: 0.7164\n",
            "Epoch 31/50\n",
            "13/13 [==============================] - 6s 423ms/step - loss: 0.1901 - accuracy: 0.9207 - val_loss: 0.6824 - val_accuracy: 0.6940\n",
            "Epoch 32/50\n",
            "13/13 [==============================] - 6s 422ms/step - loss: 0.2139 - accuracy: 0.9255 - val_loss: 0.6345 - val_accuracy: 0.6866\n",
            "Epoch 33/50\n",
            "13/13 [==============================] - 6s 434ms/step - loss: 0.1811 - accuracy: 0.9351 - val_loss: 0.6336 - val_accuracy: 0.6716\n",
            "Epoch 34/50\n",
            "13/13 [==============================] - 6s 428ms/step - loss: 0.1931 - accuracy: 0.9183 - val_loss: 0.4598 - val_accuracy: 0.7836\n",
            "Epoch 35/50\n",
            "13/13 [==============================] - 6s 429ms/step - loss: 0.1656 - accuracy: 0.9423 - val_loss: 0.7040 - val_accuracy: 0.6493\n",
            "Epoch 36/50\n",
            "13/13 [==============================] - 6s 433ms/step - loss: 0.1568 - accuracy: 0.9471 - val_loss: 0.4537 - val_accuracy: 0.7761\n",
            "Epoch 37/50\n",
            "13/13 [==============================] - 6s 439ms/step - loss: 0.1482 - accuracy: 0.9471 - val_loss: 0.6544 - val_accuracy: 0.7239\n",
            "Epoch 38/50\n",
            "13/13 [==============================] - 6s 427ms/step - loss: 0.1847 - accuracy: 0.9279 - val_loss: 0.4747 - val_accuracy: 0.7836\n",
            "Epoch 39/50\n",
            "13/13 [==============================] - 6s 426ms/step - loss: 0.1685 - accuracy: 0.9399 - val_loss: 0.5709 - val_accuracy: 0.7463\n",
            "Epoch 40/50\n",
            "13/13 [==============================] - 6s 431ms/step - loss: 0.1302 - accuracy: 0.9519 - val_loss: 0.4351 - val_accuracy: 0.8209\n",
            "Epoch 41/50\n",
            "13/13 [==============================] - 6s 433ms/step - loss: 0.1237 - accuracy: 0.9615 - val_loss: 0.4534 - val_accuracy: 0.7985\n",
            "Epoch 42/50\n",
            "13/13 [==============================] - 6s 428ms/step - loss: 0.1050 - accuracy: 0.9688 - val_loss: 0.3479 - val_accuracy: 0.8284\n",
            "Epoch 43/50\n",
            "13/13 [==============================] - 6s 424ms/step - loss: 0.1243 - accuracy: 0.9567 - val_loss: 0.5843 - val_accuracy: 0.7537\n",
            "Epoch 44/50\n",
            "13/13 [==============================] - 6s 432ms/step - loss: 0.1143 - accuracy: 0.9519 - val_loss: 0.3320 - val_accuracy: 0.8358\n",
            "Epoch 45/50\n",
            "13/13 [==============================] - 6s 424ms/step - loss: 0.0830 - accuracy: 0.9784 - val_loss: 0.3540 - val_accuracy: 0.8507\n",
            "Epoch 46/50\n",
            "13/13 [==============================] - 5s 420ms/step - loss: 0.0892 - accuracy: 0.9736 - val_loss: 0.4090 - val_accuracy: 0.8358\n",
            "Epoch 47/50\n",
            "13/13 [==============================] - 5s 420ms/step - loss: 0.1925 - accuracy: 0.9279 - val_loss: 0.3687 - val_accuracy: 0.8731\n",
            "Epoch 48/50\n",
            "13/13 [==============================] - 6s 433ms/step - loss: 0.1410 - accuracy: 0.9567 - val_loss: 0.4172 - val_accuracy: 0.8284\n",
            "Epoch 49/50\n",
            "13/13 [==============================] - 6s 433ms/step - loss: 0.1055 - accuracy: 0.9663 - val_loss: 0.4706 - val_accuracy: 0.8433\n",
            "Epoch 50/50\n",
            "13/13 [==============================] - 6s 424ms/step - loss: 0.0849 - accuracy: 0.9663 - val_loss: 0.3245 - val_accuracy: 0.8582\n"
          ]
        }
      ]
    },
    {
      "cell_type": "markdown",
      "source": [
        "# Valid Loss"
      ],
      "metadata": {
        "id": "L10KnFuw0Eh9"
      }
    },
    {
      "cell_type": "code",
      "source": [
        "plt.plot(r.history['loss'], label='train loss')\n",
        "plt.plot(r.history['val_loss'], label='val loss')\n",
        "plt.legend()\n",
        "plt.show()"
      ],
      "metadata": {
        "colab": {
          "base_uri": "https://localhost:8080/",
          "height": 265
        },
        "id": "YUQjodOp0Gik",
        "outputId": "ebd603e9-85b3-4a0f-823b-1634d6162ecc"
      },
      "execution_count": 217,
      "outputs": [
        {
          "output_type": "display_data",
          "data": {
            "text/plain": [
              "<Figure size 432x288 with 1 Axes>"
            ],
            "image/png": "[encoded data removed]"
          },
          "metadata": {
            "needs_background": "light"
          }
        }
      ]
    },
    {
      "cell_type": "markdown",
      "source": [
        "# Training Accuracy"
      ],
      "metadata": {
        "id": "2UyutW7p0IbI"
      }
    },
    {
      "cell_type": "code",
      "source": [
        "plt.plot(r.history['accuracy'], label='train loss')\n",
        "plt.plot(r.history['val_accuracy'], label='val loss')\n",
        "plt.legend()\n",
        "plt.show()"
      ],
      "metadata": {
        "colab": {
          "base_uri": "https://localhost:8080/",
          "height": 266
        },
        "id": "WgjHw1ua0NU5",
        "outputId": "9c99adde-7eb7-49b9-b578-ffd48d2512c3"
      },
      "execution_count": 218,
      "outputs": [
        {
          "output_type": "display_data",
          "data": {
            "text/plain": [
              "<Figure size 432x288 with 1 Axes>"
            ],
            "image/png": "[encoded data removed]"
          },
          "metadata": {
            "needs_background": "light"
          }
        }
      ]
    },
    {
      "cell_type": "code",
      "source": [
        "y_pred = model_cnn.predict(test_set)"
      ],
      "metadata": {
        "colab": {
          "base_uri": "https://localhost:8080/"
        },
        "id": "1Nqpo2j10ZY2",
        "outputId": "8ceb3be0-a2cd-41d8-f697-e38449beeb31"
      },
      "execution_count": 219,
      "outputs": [
        {
          "output_type": "stream",
          "name": "stdout",
          "text": [
            "5/5 [==============================] - 0s 66ms/step\n"
          ]
        }
      ]
    },
    {
      "cell_type": "code",
      "source": [
        "y_pred = np.argmax(y_pred, axis=1)"
      ],
      "metadata": {
        "id": "GJ1FdTRi0oKK"
      },
      "execution_count": 220,
      "outputs": []
    },
    {
      "cell_type": "code",
      "source": [
        "y_pred"
      ],
      "metadata": {
        "colab": {
          "base_uri": "https://localhost:8080/"
        },
        "id": "tPW9QHli0qjJ",
        "outputId": "9c184f13-925f-43e5-e992-26b7603ff612"
      },
      "execution_count": 221,
      "outputs": [
        {
          "output_type": "execute_result",
          "data": {
            "text/plain": [
              "array([0, 0, 1, 0, 0, 0, 0, 1, 1, 0, 1, 1, 1, 0, 0, 1, 0, 0, 1, 0, 0, 0,\n",
              "       0, 1, 0, 0, 1, 1, 0, 0, 1, 0, 0, 1, 0, 0, 0, 0, 0, 1, 1, 0, 1, 0,\n",
              "       0, 0, 0, 0, 1, 1, 0, 0, 0, 0, 0, 0, 0, 1, 1, 0, 0, 0, 0, 0, 0, 0,\n",
              "       0, 0, 0, 0, 0, 0, 0, 1, 1, 1, 0, 1, 0, 0, 0, 1, 0, 0, 0, 1, 1, 0,\n",
              "       1, 1, 1, 0, 0, 1, 1, 1, 0, 0, 0, 1, 0, 1, 0, 0, 1, 1, 0, 1, 1, 1,\n",
              "       0, 0, 1, 1, 1, 1, 1, 0, 0, 1, 0, 1, 0, 1, 0, 1, 0, 1, 0, 0, 0, 0,\n",
              "       0, 0])"
            ]
          },
          "metadata": {},
          "execution_count": 221
        }
      ]
    },
    {
      "cell_type": "code",
      "source": [
        "# cnn_img = image.load_img('/content/drive/MyDrive/Malaria dataset/Test/Parasite/C39P4thinF_original_IMG_20150622_105554_cell_18.png',\n",
        "                    # target_size=(224,224))\n",
        "cnn_img = image.load_img('/content/drive/MyDrive/Malaria dataset/Test/Parasite/C39P4thinF_original_IMG_20150622_105803_cell_106.png',\n",
        "                    target_size=(224,224))"
      ],
      "metadata": {
        "id": "B1optPWg2KFl"
      },
      "execution_count": 222,
      "outputs": []
    },
    {
      "cell_type": "code",
      "source": [
        "cnn_img"
      ],
      "metadata": {
        "colab": {
          "base_uri": "https://localhost:8080/",
          "height": 241
        },
        "id": "ZFOddE2P2Wyp",
        "outputId": "b146838a-9829-4eeb-db4b-5fd7bb6190db"
      },
      "execution_count": 192,
      "outputs": [
        {
          "output_type": "execute_result",
          "data": {
            "text/plain": [
              "<PIL.Image.Image image mode=RGB size=224x224 at 0x7FA11C4718E0>"
            ],
            "image/png": "[encoded data removed]"
          },
          "metadata": {},
          "execution_count": 192
        }
      ]
    },
    {
      "cell_type": "code",
      "source": [
        "cnn_img = image.load_img('/content/drive/MyDrive/Malaria dataset/Test/Uninfected/C3thin_original_IMG_20150608_162922_cell_217.png',\n",
        "                    target_size=(224,224))"
      ],
      "metadata": {
        "id": "MYsFs6NG3AfG"
      },
      "execution_count": 223,
      "outputs": []
    },
    {
      "cell_type": "code",
      "source": [
        "cnn_img"
      ],
      "metadata": {
        "colab": {
          "base_uri": "https://localhost:8080/",
          "height": 241
        },
        "id": "wNRdQwuu3jBm",
        "outputId": "68924dba-c979-4ad6-ccf3-06c3334e9812"
      },
      "execution_count": 224,
      "outputs": [
        {
          "output_type": "execute_result",
          "data": {
            "text/plain": [
              "<PIL.Image.Image image mode=RGB size=224x224 at 0x7FA112542940>"
            ],
            "image/png": "[encoded data removed]"
          },
          "metadata": {},
          "execution_count": 224
        }
      ]
    },
    {
      "cell_type": "code",
      "source": [
        "x = image.img_to_array(cnn_img)\n"
      ],
      "metadata": {
        "id": "4dXOeZWY2M-_"
      },
      "execution_count": 225,
      "outputs": []
    },
    {
      "cell_type": "code",
      "source": [
        "x= x/255"
      ],
      "metadata": {
        "id": "B_aevSat2KCB"
      },
      "execution_count": 226,
      "outputs": []
    },
    {
      "cell_type": "code",
      "source": [
        "x = np.expand_dims(x, axis=0)\n",
        "img_data = preprocess_input(x)\n",
        "print(img_data.shape)\n"
      ],
      "metadata": {
        "colab": {
          "base_uri": "https://localhost:8080/"
        },
        "id": "pTdFpyYL2J-U",
        "outputId": "8c9f0f36-7ae6-40bb-9680-4fa82ce4a8bc"
      },
      "execution_count": 227,
      "outputs": [
        {
          "output_type": "stream",
          "name": "stdout",
          "text": [
            "(1, 224, 224, 3)\n"
          ]
        }
      ]
    },
    {
      "cell_type": "code",
      "source": [
        "model_cnn.predict(img_data)"
      ],
      "metadata": {
        "colab": {
          "base_uri": "https://localhost:8080/"
        },
        "id": "Nth0SS3n0sl-",
        "outputId": "d1519104-63b6-4c21-bee6-dbd60b4bac34"
      },
      "execution_count": 228,
      "outputs": [
        {
          "output_type": "stream",
          "name": "stdout",
          "text": [
            "1/1 [==============================] - 0s 69ms/step\n"
          ]
        },
        {
          "output_type": "execute_result",
          "data": {
            "text/plain": [
              "array([[1., 0.]], dtype=float32)"
            ]
          },
          "metadata": {},
          "execution_count": 228
        }
      ]
    },
    {
      "cell_type": "code",
      "source": [
        "a = np.argmax(model_cnn.predict(img_data))"
      ],
      "metadata": {
        "colab": {
          "base_uri": "https://localhost:8080/"
        },
        "id": "gbpavqFg1Wk9",
        "outputId": "e6ce40a6-c6a0-4e94-ba2b-912f203644ea"
      },
      "execution_count": 229,
      "outputs": [
        {
          "output_type": "stream",
          "name": "stdout",
          "text": [
            "1/1 [==============================] - 0s 18ms/step\n"
          ]
        }
      ]
    },
    {
      "cell_type": "code",
      "source": [
        "a"
      ],
      "metadata": {
        "colab": {
          "base_uri": "https://localhost:8080/"
        },
        "id": "y8bspfKi1hY8",
        "outputId": "68a1e8d2-bdf7-47c9-bce8-788fc167078a"
      },
      "execution_count": 230,
      "outputs": [
        {
          "output_type": "execute_result",
          "data": {
            "text/plain": [
              "0"
            ]
          },
          "metadata": {},
          "execution_count": 230
        }
      ]
    },
    {
      "cell_type": "code",
      "source": [
        "if(a==1):\n",
        "  print('Uninfected')\n",
        "else:\n",
        "  print('Infected')"
      ],
      "metadata": {
        "colab": {
          "base_uri": "https://localhost:8080/"
        },
        "id": "z-KODrOV1hwY",
        "outputId": "09e11192-90b0-4ce7-f6a4-77507fe8adf0"
      },
      "execution_count": 231,
      "outputs": [
        {
          "output_type": "stream",
          "name": "stdout",
          "text": [
            "Infected\n"
          ]
        }
      ]
    },
    {
      "cell_type": "code",
      "source": [],
      "metadata": {
        "id": "R2oUHwCS25Wd"
      },
      "execution_count": null,
      "outputs": []
    }
  ]
}